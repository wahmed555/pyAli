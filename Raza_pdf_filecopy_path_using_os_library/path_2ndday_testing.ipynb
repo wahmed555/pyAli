{
 "cells": [
  {
   "cell_type": "markdown",
   "metadata": {},
   "source": [
    "### Inputs for the project\n"
   ]
  },
  {
   "cell_type": "code",
   "execution_count": 5,
   "metadata": {},
   "outputs": [],
   "source": [
    "listExcelFileName=['KK2L0515007B21343SDCCFC 07122L05BZS03-007.pdf',\n",
    "'KK2L0515008B21343SDCCFC 07122L05BZS03-008.pdf',\n",
    "'KK2L0515009B21343SDCCFC 07122L05BZS03-009.pdf']"
   ]
  },
  {
   "cell_type": "code",
   "execution_count": 6,
   "metadata": {},
   "outputs": [],
   "source": [
    "MainDestinationFolder=\"C:\\\\Users\\\\Ahmed\\\\Documents\\\\razaullah_path\\\\NewMaster\""
   ]
  },
  {
   "cell_type": "code",
   "execution_count": null,
   "metadata": {},
   "outputs": [],
   "source": []
  },
  {
   "cell_type": "code",
   "execution_count": 7,
   "metadata": {},
   "outputs": [],
   "source": [
    "from pathlib import Path"
   ]
  },
  {
   "cell_type": "code",
   "execution_count": 13,
   "metadata": {},
   "outputs": [],
   "source": [
    "data_folder = Path(\"C:\\\\Users\\\\Ahmed\\\\Documents\\\\razaullah_path\")"
   ]
  },
  {
   "cell_type": "code",
   "execution_count": null,
   "metadata": {},
   "outputs": [],
   "source": [
    "\n",
    "\n"
   ]
  },
  {
   "cell_type": "code",
   "execution_count": 25,
   "metadata": {},
   "outputs": [
    {
     "name": "stdout",
     "output_type": "stream",
     "text": [
      "C:\\Users\\Ahmed\\Documents\\razaullah_path\\garbage_sourceFolder\\AA01\\turboGenerator\\RazaBaglol.txt\n",
      "C:\\Users\\Ahmed\\Documents\\razaullah_path\\garbage_sourceFolder\\AA01\\turboGenerator\\SanaCharsi.txt\n",
      "C:\\Users\\Ahmed\\Documents\\razaullah_path\\garbage_sourceFolder\\AA01\\turboGenerator\\WasimCheeta.txt\n",
      "C:\\Users\\Ahmed\\Documents\\razaullah_path\\garbage_sourceFolder\\AA05\\get-absolute-paths-of-all-files-in-a-directory-2019-04-12-15_49_46.pdf\n",
      "C:\\Users\\Ahmed\\Documents\\razaullah_path\\garbage_sourceFolder\\AA05\\good coded explained for pdf filing.pdf\n",
      "C:\\Users\\Ahmed\\Documents\\razaullah_path\\garbage_sourceFolder\\AA05\\screencapture-stackoverflow-questions-2252726-how-to-create-pdf-files-in-python-2019-04-12-13_18_31.png\n"
     ]
    }
   ],
   "source": [
    "# testing   # Get absolute paths of all files in a directory\n",
    "#: gives name of all the files in directory and its sub directory\n",
    "\n",
    "import os\n",
    "all_files_list=[]\n",
    "for root, dirs, files in os.walk(os.path.abspath(\"C:\\\\Users\\\\Ahmed\\\\Documents\\\\razaullah_path\\\\garbage_sourceFolder\")):\n",
    "    for file in files:\n",
    "        all_files_list.append(file)\n",
    "        print(os.path.join(root, file))"
   ]
  },
  {
   "cell_type": "code",
   "execution_count": 18,
   "metadata": {},
   "outputs": [
    {
     "data": {
      "text/plain": [
       "['RazaBaglol.txt',\n",
       " 'SanaCharsi.txt',\n",
       " 'WasimCheeta.txt',\n",
       " 'get-absolute-paths-of-all-files-in-a-directory-2019-04-12-15_49_46.pdf',\n",
       " 'good coded explained for pdf filing.pdf',\n",
       " 'screencapture-stackoverflow-questions-2252726-how-to-create-pdf-files-in-python-2019-04-12-13_18_31.png']"
      ]
     },
     "execution_count": 18,
     "metadata": {},
     "output_type": "execute_result"
    }
   ],
   "source": [
    "all_files_list"
   ]
  },
  {
   "cell_type": "code",
   "execution_count": null,
   "metadata": {},
   "outputs": [],
   "source": []
  },
  {
   "cell_type": "code",
   "execution_count": 23,
   "metadata": {},
   "outputs": [
    {
     "name": "stdout",
     "output_type": "stream",
     "text": [
      "C:\\Users\\Ahmed\\Documents\\razaullah_path\\garbage_sourceFolder\\AA05\\get-absolute-paths-of-all-files-in-a-directory-2019-04-12-15_49_46.pdf\n",
      "C:\\Users\\Ahmed\\Documents\\razaullah_path\\garbage_sourceFolder\\AA05\\good coded explained for pdf filing.pdf\n"
     ]
    }
   ],
   "source": [
    "import glob\n",
    "import shutil\n",
    "for f in glob.glob(\"C:\\\\Users\\\\Ahmed\\\\Documents\\\\razaullah_path\\\\garbage_sourceFolder\\\\AA05\\\\*.pdf\"):\n",
    "    print(f)\n",
    "    shutil.copy(f, \"C:\\\\Users\\\\Ahmed\\\\Documents\\\\razaullah_path\\\\NewMaster\" )"
   ]
  },
  {
   "cell_type": "code",
   "execution_count": null,
   "metadata": {},
   "outputs": [],
   "source": []
  },
  {
   "cell_type": "code",
   "execution_count": null,
   "metadata": {},
   "outputs": [],
   "source": []
  },
  {
   "cell_type": "code",
   "execution_count": null,
   "metadata": {},
   "outputs": [],
   "source": []
  },
  {
   "cell_type": "code",
   "execution_count": null,
   "metadata": {},
   "outputs": [],
   "source": []
  },
  {
   "cell_type": "code",
   "execution_count": null,
   "metadata": {},
   "outputs": [],
   "source": []
  },
  {
   "cell_type": "code",
   "execution_count": null,
   "metadata": {},
   "outputs": [],
   "source": []
  },
  {
   "cell_type": "code",
   "execution_count": null,
   "metadata": {},
   "outputs": [],
   "source": []
  },
  {
   "cell_type": "code",
   "execution_count": 10,
   "metadata": {},
   "outputs": [
    {
     "data": {
      "text/plain": [
       "'C:\\\\Users\\\\Ahmed\\\\Documents\\\\razaullah_path\\\\mydir\\\\myfile.txt'"
      ]
     },
     "execution_count": 10,
     "metadata": {},
     "output_type": "execute_result"
    }
   ],
   "source": [
    "# if given file name it gives abolute  path\n",
    "\n",
    "import os\n",
    "os.path.abspath(\"mydir/myfile.txt\")"
   ]
  },
  {
   "cell_type": "code",
   "execution_count": 11,
   "metadata": {},
   "outputs": [
    {
     "data": {
      "text/plain": [
       "WindowsPath('C:/Users/Ahmed/Documents/razaullah_path/list of filesName in txt.txt')"
      ]
     },
     "execution_count": 11,
     "metadata": {},
     "output_type": "execute_result"
    }
   ],
   "source": [
    "# Working if given file name it gives out  absolute path\n",
    "\n",
    "from pathlib import Path\n",
    "p = Path(\"list of filesName in txt.txt\").resolve()\n",
    "p"
   ]
  },
  {
   "cell_type": "code",
   "execution_count": null,
   "metadata": {},
   "outputs": [],
   "source": []
  }
 ],
 "metadata": {
  "kernelspec": {
   "display_name": "Python 3",
   "language": "python",
   "name": "python3"
  },
  "language_info": {
   "codemirror_mode": {
    "name": "ipython",
    "version": 3
   },
   "file_extension": ".py",
   "mimetype": "text/x-python",
   "name": "python",
   "nbconvert_exporter": "python",
   "pygments_lexer": "ipython3",
   "version": "3.6.5"
  }
 },
 "nbformat": 4,
 "nbformat_minor": 2
}
