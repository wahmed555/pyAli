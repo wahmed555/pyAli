{
 "cells": [
  {
   "cell_type": "markdown",
   "metadata": {},
   "source": [
    "### Inputs for the project\n"
   ]
  },
  {
   "cell_type": "code",
   "execution_count": 100,
   "metadata": {},
   "outputs": [],
   "source": [
    "# this is the list of file raza will provide from excel\n",
    "\n",
    "listExcelFileName=['KK2L0515004B21343SDCCFC 07122L05BZS03-004.pdf',\n",
    "                   'KK2L0515008B21343SDCCFC 07122L05BZS03-008.pdf',\n",
    "                   'KK2L0515007B21343SDCCFC 07122L05BZS03-007.pdf']"
   ]
  },
  {
   "cell_type": "code",
   "execution_count": 101,
   "metadata": {},
   "outputs": [],
   "source": [
    "# source and destination file path\n",
    "\n",
    "MainDestinationFolder=\"C:\\\\Users\\\\Ahmed\\\\Documents\\\\razaullah_path\\\\NewMaster\"\n",
    "garbageFolder=\"C:\\\\Users\\\\Ahmed\\\\Documents\\\\razaullah_path\\\\garbage_sourceFolder\""
   ]
  },
  {
   "cell_type": "code",
   "execution_count": null,
   "metadata": {},
   "outputs": [],
   "source": []
  },
  {
   "cell_type": "code",
   "execution_count": 102,
   "metadata": {},
   "outputs": [
    {
     "name": "stdout",
     "output_type": "stream",
     "text": [
      "C:\\Users\\Ahmed\\Documents\\razaullah_path\\garbage_sourceFolder\\A-63\\hotStart\\KK2L0515004B21343SDCCFC 07122L05BZS03-004.pdf\n",
      "C:\\Users\\Ahmed\\Documents\\razaullah_path\\garbage_sourceFolder\\A-63\\hotStart\\G03\\KK2L0515003B21343SDBCFC 07122L05BZS03-003.pdf\n",
      "C:\\Users\\Ahmed\\Documents\\razaullah_path\\garbage_sourceFolder\\A-63\\hotStart\\G03\\KK2L0515007B21343SDCCFC 07122L05BZS03-007.pdf\n",
      "C:\\Users\\Ahmed\\Documents\\razaullah_path\\garbage_sourceFolder\\A-63\\hotStart\\G03\\KK2L0515009B21343SDCCFC 07122L05BZS03-009.pdf\n",
      "C:\\Users\\Ahmed\\Documents\\razaullah_path\\garbage_sourceFolder\\A-63\\hotStart\\G03\\KK2L0515010B21343SDCCFC 07122L05BZS03-010.pdf\n",
      "C:\\Users\\Ahmed\\Documents\\razaullah_path\\garbage_sourceFolder\\A-63\\hotStart\\G03\\screencapture-stackoverflow-questions-2252726-how-to-create-pdf-files-in-python-2019-04-12-13_18_31.png\n",
      "C:\\Users\\Ahmed\\Documents\\razaullah_path\\garbage_sourceFolder\\A-63\\hotStart\\G03\\screencapture-stackoverflow-questions-2252726-how-to-create-pdf-files-in-python-2019-04-12-13_20_18.pdf\n",
      "C:\\Users\\Ahmed\\Documents\\razaullah_path\\garbage_sourceFolder\\AA01\\KK2L0515008B21343SDCCFC 07122L05BZS03-008.pdf\n",
      "C:\\Users\\Ahmed\\Documents\\razaullah_path\\garbage_sourceFolder\\AA01\\turboGenerator\\RazaBaglol.txt\n",
      "C:\\Users\\Ahmed\\Documents\\razaullah_path\\garbage_sourceFolder\\AA01\\turboGenerator\\SanaCharsi.txt\n",
      "C:\\Users\\Ahmed\\Documents\\razaullah_path\\garbage_sourceFolder\\AA01\\turboGenerator\\WasimCheeta.txt\n",
      "C:\\Users\\Ahmed\\Documents\\razaullah_path\\garbage_sourceFolder\\AA05\\get-absolute-paths-of-all-files-in-a-directory-2019-04-12-15_49_46.pdf\n",
      "C:\\Users\\Ahmed\\Documents\\razaullah_path\\garbage_sourceFolder\\AA05\\good coded explained for pdf filing.pdf\n",
      "C:\\Users\\Ahmed\\Documents\\razaullah_path\\garbage_sourceFolder\\AA05\\image.png\n"
     ]
    }
   ],
   "source": [
    "# testing   # Get absolute paths of all files in a directory\n",
    "#: gives name of all the files in directory and its sub directory\n",
    "\n",
    "import os\n",
    "pathFull_list=[]\n",
    "super_files_list=[]\n",
    "for root, dirs, files in os.walk(os.path.abspath(garbageFolder)):\n",
    "    for file in files:\n",
    "\n",
    "        super_files_list.append(file)                 # this make list by appending the only name of each file\n",
    "        print(os.path.join(root, file))\n",
    "        pathFull_list.append(os.path.join(root, file)) # this make list by appending the full path of each file\n"
   ]
  },
  {
   "cell_type": "code",
   "execution_count": 103,
   "metadata": {},
   "outputs": [
    {
     "data": {
      "text/plain": [
       "['C:\\\\Users\\\\Ahmed\\\\Documents\\\\razaullah_path\\\\garbage_sourceFolder\\\\A-63\\\\hotStart\\\\KK2L0515004B21343SDCCFC 07122L05BZS03-004.pdf',\n",
       " 'C:\\\\Users\\\\Ahmed\\\\Documents\\\\razaullah_path\\\\garbage_sourceFolder\\\\A-63\\\\hotStart\\\\G03\\\\KK2L0515003B21343SDBCFC 07122L05BZS03-003.pdf',\n",
       " 'C:\\\\Users\\\\Ahmed\\\\Documents\\\\razaullah_path\\\\garbage_sourceFolder\\\\A-63\\\\hotStart\\\\G03\\\\KK2L0515007B21343SDCCFC 07122L05BZS03-007.pdf',\n",
       " 'C:\\\\Users\\\\Ahmed\\\\Documents\\\\razaullah_path\\\\garbage_sourceFolder\\\\A-63\\\\hotStart\\\\G03\\\\KK2L0515009B21343SDCCFC 07122L05BZS03-009.pdf',\n",
       " 'C:\\\\Users\\\\Ahmed\\\\Documents\\\\razaullah_path\\\\garbage_sourceFolder\\\\A-63\\\\hotStart\\\\G03\\\\KK2L0515010B21343SDCCFC 07122L05BZS03-010.pdf',\n",
       " 'C:\\\\Users\\\\Ahmed\\\\Documents\\\\razaullah_path\\\\garbage_sourceFolder\\\\A-63\\\\hotStart\\\\G03\\\\screencapture-stackoverflow-questions-2252726-how-to-create-pdf-files-in-python-2019-04-12-13_18_31.png',\n",
       " 'C:\\\\Users\\\\Ahmed\\\\Documents\\\\razaullah_path\\\\garbage_sourceFolder\\\\A-63\\\\hotStart\\\\G03\\\\screencapture-stackoverflow-questions-2252726-how-to-create-pdf-files-in-python-2019-04-12-13_20_18.pdf',\n",
       " 'C:\\\\Users\\\\Ahmed\\\\Documents\\\\razaullah_path\\\\garbage_sourceFolder\\\\AA01\\\\KK2L0515008B21343SDCCFC 07122L05BZS03-008.pdf',\n",
       " 'C:\\\\Users\\\\Ahmed\\\\Documents\\\\razaullah_path\\\\garbage_sourceFolder\\\\AA01\\\\turboGenerator\\\\RazaBaglol.txt',\n",
       " 'C:\\\\Users\\\\Ahmed\\\\Documents\\\\razaullah_path\\\\garbage_sourceFolder\\\\AA01\\\\turboGenerator\\\\SanaCharsi.txt',\n",
       " 'C:\\\\Users\\\\Ahmed\\\\Documents\\\\razaullah_path\\\\garbage_sourceFolder\\\\AA01\\\\turboGenerator\\\\WasimCheeta.txt',\n",
       " 'C:\\\\Users\\\\Ahmed\\\\Documents\\\\razaullah_path\\\\garbage_sourceFolder\\\\AA05\\\\get-absolute-paths-of-all-files-in-a-directory-2019-04-12-15_49_46.pdf',\n",
       " 'C:\\\\Users\\\\Ahmed\\\\Documents\\\\razaullah_path\\\\garbage_sourceFolder\\\\AA05\\\\good coded explained for pdf filing.pdf',\n",
       " 'C:\\\\Users\\\\Ahmed\\\\Documents\\\\razaullah_path\\\\garbage_sourceFolder\\\\AA05\\\\image.png']"
      ]
     },
     "execution_count": 103,
     "metadata": {},
     "output_type": "execute_result"
    }
   ],
   "source": [
    "pathFull_list"
   ]
  },
  {
   "cell_type": "code",
   "execution_count": 104,
   "metadata": {},
   "outputs": [
    {
     "data": {
      "text/plain": [
       "['KK2L0515004B21343SDCCFC 07122L05BZS03-004.pdf',\n",
       " 'KK2L0515003B21343SDBCFC 07122L05BZS03-003.pdf',\n",
       " 'KK2L0515007B21343SDCCFC 07122L05BZS03-007.pdf',\n",
       " 'KK2L0515009B21343SDCCFC 07122L05BZS03-009.pdf',\n",
       " 'KK2L0515010B21343SDCCFC 07122L05BZS03-010.pdf',\n",
       " 'screencapture-stackoverflow-questions-2252726-how-to-create-pdf-files-in-python-2019-04-12-13_18_31.png',\n",
       " 'screencapture-stackoverflow-questions-2252726-how-to-create-pdf-files-in-python-2019-04-12-13_20_18.pdf',\n",
       " 'KK2L0515008B21343SDCCFC 07122L05BZS03-008.pdf',\n",
       " 'RazaBaglol.txt',\n",
       " 'SanaCharsi.txt',\n",
       " 'WasimCheeta.txt',\n",
       " 'get-absolute-paths-of-all-files-in-a-directory-2019-04-12-15_49_46.pdf',\n",
       " 'good coded explained for pdf filing.pdf',\n",
       " 'image.png']"
      ]
     },
     "execution_count": 104,
     "metadata": {},
     "output_type": "execute_result"
    }
   ],
   "source": [
    "super_files_list"
   ]
  },
  {
   "cell_type": "code",
   "execution_count": 105,
   "metadata": {},
   "outputs": [
    {
     "data": {
      "text/plain": [
       "14"
      ]
     },
     "execution_count": 105,
     "metadata": {},
     "output_type": "execute_result"
    }
   ],
   "source": [
    "len(pathFull_list)"
   ]
  },
  {
   "cell_type": "code",
   "execution_count": 106,
   "metadata": {},
   "outputs": [
    {
     "data": {
      "text/plain": [
       "14"
      ]
     },
     "execution_count": 106,
     "metadata": {},
     "output_type": "execute_result"
    }
   ],
   "source": [
    "len(super_files_list)"
   ]
  },
  {
   "cell_type": "code",
   "execution_count": null,
   "metadata": {},
   "outputs": [],
   "source": []
  },
  {
   "cell_type": "code",
   "execution_count": 107,
   "metadata": {},
   "outputs": [
    {
     "name": "stdout",
     "output_type": "stream",
     "text": [
      "\n",
      " current file:  KK2L0515004B21343SDCCFC 07122L05BZS03-004.pdf\n",
      "index location:  0\n",
      "C:\\Users\\Ahmed\\Documents\\razaullah_path\\garbage_sourceFolder\\A-63\\hotStart\\KK2L0515004B21343SDCCFC 07122L05BZS03-004.pdf\n",
      " file copied\n",
      "\n",
      " current file:  KK2L0515008B21343SDCCFC 07122L05BZS03-008.pdf\n",
      "index location:  7\n",
      "C:\\Users\\Ahmed\\Documents\\razaullah_path\\garbage_sourceFolder\\AA01\\KK2L0515008B21343SDCCFC 07122L05BZS03-008.pdf\n",
      " file copied\n",
      "\n",
      " current file:  KK2L0515007B21343SDCCFC 07122L05BZS03-007.pdf\n",
      "index location:  2\n",
      "C:\\Users\\Ahmed\\Documents\\razaullah_path\\garbage_sourceFolder\\A-63\\hotStart\\G03\\KK2L0515007B21343SDCCFC 07122L05BZS03-007.pdf\n",
      " file copied\n",
      "\n",
      " Finished copying\n"
     ]
    }
   ],
   "source": [
    "# copying function\n",
    "\n",
    "import shutil\n",
    "\n",
    "for file in listExcelFileName:\n",
    "    print(\"\\n current file: \",file)\n",
    "    indexLocation=super_files_list.index(file)   # this will return the index of file\n",
    "    print(\"index location: \",indexLocation)\n",
    "    absPathOfFile2copy=pathFull_list[indexLocation]\n",
    "    print(absPathOfFile2copy)\n",
    "    shutil.copy(absPathOfFile2copy, MainDestinationFolder) \n",
    "    print(\" file copied\")\n",
    "    \n",
    "print(\"\\n Finished copying\")"
   ]
  },
  {
   "cell_type": "code",
   "execution_count": null,
   "metadata": {},
   "outputs": [],
   "source": []
  },
  {
   "cell_type": "code",
   "execution_count": null,
   "metadata": {},
   "outputs": [],
   "source": []
  },
  {
   "cell_type": "code",
   "execution_count": null,
   "metadata": {},
   "outputs": [],
   "source": []
  },
  {
   "cell_type": "code",
   "execution_count": 88,
   "metadata": {},
   "outputs": [
    {
     "data": {
      "text/plain": [
       "True"
      ]
     },
     "execution_count": 88,
     "metadata": {},
     "output_type": "execute_result"
    }
   ],
   "source": [
    "'KK2L0515004B21343SDCCFC 07122L05BZS03-004.pdf' in super_files_list\n",
    "'KK2L0515008B21343SDCCFC 07122L05BZS03-004.pdf'"
   ]
  },
  {
   "cell_type": "code",
   "execution_count": null,
   "metadata": {},
   "outputs": [],
   "source": []
  },
  {
   "cell_type": "code",
   "execution_count": null,
   "metadata": {},
   "outputs": [],
   "source": []
  },
  {
   "cell_type": "code",
   "execution_count": null,
   "metadata": {},
   "outputs": [],
   "source": []
  },
  {
   "cell_type": "code",
   "execution_count": 9,
   "metadata": {},
   "outputs": [
    {
     "name": "stdout",
     "output_type": "stream",
     "text": [
      "C:\\Users\\Ahmed\\Documents\\razaullah_path\\garbage_sourceFolder\\AA05\\get-absolute-paths-of-all-files-in-a-directory-2019-04-12-15_49_46.pdf\n",
      "C:\\Users\\Ahmed\\Documents\\razaullah_path\\garbage_sourceFolder\\AA05\\good coded explained for pdf filing.pdf\n"
     ]
    }
   ],
   "source": [
    "# working\n",
    "\n",
    "import glob\n",
    "import shutil\n",
    "for f in glob.glob(\"C:\\\\Users\\\\Ahmed\\\\Documents\\\\razaullah_path\\\\garbage_sourceFolder\\\\AA05\\\\*.pdf\"):\n",
    "    print(f)\n",
    "    shutil.copy(f, \"C:\\\\Users\\\\Ahmed\\\\Documents\\\\razaullah_path\\\\NewMaster\" )"
   ]
  },
  {
   "cell_type": "code",
   "execution_count": null,
   "metadata": {},
   "outputs": [],
   "source": []
  },
  {
   "cell_type": "code",
   "execution_count": 23,
   "metadata": {},
   "outputs": [
    {
     "name": "stdout",
     "output_type": "stream",
     "text": [
      "get-absolute-paths-of-all-files-in-a-directory-2019-04-12-15_49_46.pdf\n"
     ]
    }
   ],
   "source": [
    "import glob\n",
    "import shutil\n",
    "for fn in listExcelFileName:\n",
    "    if fn in super_files_list:\n",
    "        print(fn)\n",
    "    shutil.copy(f, MainDestinationFolder )"
   ]
  },
  {
   "cell_type": "code",
   "execution_count": null,
   "metadata": {},
   "outputs": [],
   "source": []
  },
  {
   "cell_type": "code",
   "execution_count": null,
   "metadata": {},
   "outputs": [],
   "source": []
  },
  {
   "cell_type": "code",
   "execution_count": 24,
   "metadata": {},
   "outputs": [
    {
     "data": {
      "text/plain": [
       "WindowsPath('get-absolute-paths-of-all-files-in-a-directory-2019-04-12-15_49_46.pdf')"
      ]
     },
     "execution_count": 24,
     "metadata": {},
     "output_type": "execute_result"
    }
   ],
   "source": [
    "from pathlib import Path\n",
    "p = Path('get-absolute-paths-of-all-files-in-a-directory-2019-04-12-15_49_46.pdf').resolve()\n",
    "p"
   ]
  },
  {
   "cell_type": "code",
   "execution_count": 25,
   "metadata": {},
   "outputs": [
    {
     "data": {
      "text/plain": [
       "'C:\\\\Users\\\\Ahmed\\\\Documents\\\\razaullah_path\\\\get-absolute-paths-of-all-files-in-a-directory-2019-04-12-15_49_46.pdf'"
      ]
     },
     "execution_count": 25,
     "metadata": {},
     "output_type": "execute_result"
    }
   ],
   "source": [
    "\n",
    "import os\n",
    "os.path.abspath('get-absolute-paths-of-all-files-in-a-directory-2019-04-12-15_49_46.pdf')"
   ]
  },
  {
   "cell_type": "code",
   "execution_count": null,
   "metadata": {},
   "outputs": [],
   "source": []
  }
 ],
 "metadata": {
  "kernelspec": {
   "display_name": "Python 3",
   "language": "python",
   "name": "python3"
  },
  "language_info": {
   "codemirror_mode": {
    "name": "ipython",
    "version": 3
   },
   "file_extension": ".py",
   "mimetype": "text/x-python",
   "name": "python",
   "nbconvert_exporter": "python",
   "pygments_lexer": "ipython3",
   "version": "3.6.5"
  }
 },
 "nbformat": 4,
 "nbformat_minor": 2
}
